{
 "cells": [
  {
   "cell_type": "markdown",
   "metadata": {},
   "source": [
    "# SQL Queries and AACT Data\n",
    "\n",
    "In this assignment, you will answer questions about clinical trials registered with the US government. The data is a subset of the data made available through the Clinical Trials Transformation Initiative. \n",
    "The data provided is a subset of the full data set, so be sure to use the\n",
    "version of the data available on the course Canvas site.  If you are\n",
    "interested, you can learn more about the dataset at\n",
    "http://aact.ctti-clinicaltrials.org.\n",
    "\n",
    "\n",
    "## What's In and Out of Scope\n",
    "\n",
    "This is intended to be a declarative SQL query assignment. Therefore, you must write\n",
    "queries in SQL (not functions, and not in Python).  You\n",
    "may use VIEWs as needed and you may use standard built-in PostgreSQL\n",
    "functions (e.g. ROUND or CASE statements). If you're not sure if\n",
    "something is allowed, ask!\n",
    "\n",
    "## Getting Started\n",
    "\n",
    "First,  go to your database, and create the tables found in the tablesA2.sql file.\n",
    "\n",
    "## Load the data\n",
    "\n",
    "Load the data needed for the assignment. You should do this in\n",
    "pgAdmin or psql. The files are provided in the Canvas assignment. They are .sql files. You can copy & paste the contents into a pgAdmin window and run them or use the following command in psql:\n",
    "\n",
    "\\i <filename.sql>\n",
    "\n",
    "Where <filename.sql> is the name of the file you want to run.  For example:\n",
    "\n",
    "\\i conditions.sql\n",
    "\n",
    "\n",
    "## Cautions\n",
    "You must use the table and attribute names provided. Do not rename anything. We want to be able to run your submission and see all of the  results be generated.\n",
    "\n",
    "\n",
    "At the end of your submission, include **DROP** or **DELETE** statements that remove any VIEWs or TABLEs your code created."
   ]
  },
  {
   "cell_type": "markdown",
   "metadata": {},
   "source": [
    "## Turnin\n",
    "Fill in this notebook and download it as a notebook (.ipynb).  By 11:55P on the due date, submit this document electronically to Canvas.   Answers in the comments section of CANVAS are not acceptable and will not be read.  Be sure to turn in the file with your answers in it, not just the empty assignment notebook\n",
    "\n",
    "\n",
    "## Grading\n",
    " The number of points for each query is indicated in the question.   \n",
    "If you don't get the right answer or your code is not correct, you won't get all of the points; partial credit may be given\n",
    "at the discretion of the grader.\n",
    "\n",
    "## Academic Honesty\n",
    "\n",
    "The following level of collaboration is allowed on this assignment: You\n",
    "may discuss the assignment with your classmates at a high level. Any\n",
    "issues getting Postgres running is totally fine. What\n",
    "is not allowed is direct examination of anyone else's SQL code (on a\n",
    "computer, email, whiteboard, etc.) or allowing anyone else to see your\n",
    "SQL code. You may not discuss query results with your classmates.\n",
    "\n",
    "You may use the search engine of your choice to lookup the syntax for\n",
    "SQL commands, but may not use it to find answers to queries.\n",
    "\n"
   ]
  },
  {
   "cell_type": "markdown",
   "metadata": {},
   "source": [
    "## Connect to your database\n",
    "\n",
    "Run the next cell to enter your netId "
   ]
  },
  {
   "cell_type": "code",
   "execution_count": 1,
   "metadata": {},
   "outputs": [
    {
     "name": "stdout",
     "output_type": "stream",
     "text": [
      "sy31\n"
     ]
    }
   ],
   "source": [
    "import getpass\n",
    "myNetId = input()\n"
   ]
  },
  {
   "cell_type": "markdown",
   "metadata": {},
   "source": [
    "And the next cell to enter your password"
   ]
  },
  {
   "cell_type": "code",
   "execution_count": 2,
   "metadata": {},
   "outputs": [
    {
     "name": "stdout",
     "output_type": "stream",
     "text": [
      "········\n"
     ]
    }
   ],
   "source": [
    "password = getpass.getpass()\n"
   ]
  },
  {
   "cell_type": "code",
   "execution_count": 3,
   "metadata": {},
   "outputs": [],
   "source": [
    "# set this value to 430 or 533, based on the course you are taking.\n",
    "course = \"533\""
   ]
  },
  {
   "cell_type": "code",
   "execution_count": 4,
   "metadata": {},
   "outputs": [],
   "source": [
    "def make_conn_str(netId, password):\n",
    "      \n",
    "    hostname = \"comp\" + course + \".clear.rice.edu\"\n",
    "    db = netId + '_db'\n",
    "    \n",
    "    return f\"postgresql://{netId}:{password}@{hostname}/{db}\""
   ]
  },
  {
   "cell_type": "code",
   "execution_count": 5,
   "metadata": {},
   "outputs": [],
   "source": [
    "conn_str = make_conn_str(myNetId, password)"
   ]
  },
  {
   "cell_type": "code",
   "execution_count": 21,
   "metadata": {},
   "outputs": [
    {
     "name": "stdout",
     "output_type": "stream",
     "text": [
      "The sql extension is already loaded. To reload it, use:\n",
      "  %reload_ext sql\n"
     ]
    }
   ],
   "source": [
    "%load_ext sql"
   ]
  },
  {
   "cell_type": "code",
   "execution_count": 7,
   "metadata": {},
   "outputs": [
    {
     "data": {
      "text/plain": [
       "'Connected: sy31@sy31_db'"
      ]
     },
     "execution_count": 7,
     "metadata": {},
     "output_type": "execute_result"
    }
   ],
   "source": [
    "%sql $conn_str"
   ]
  },
  {
   "cell_type": "code",
   "execution_count": 22,
   "metadata": {},
   "outputs": [
    {
     "data": {
      "text/plain": [
       "'Connected: @writers.db3'"
      ]
     },
     "execution_count": 22,
     "metadata": {},
     "output_type": "execute_result"
    }
   ],
   "source": [
    "%sql sqlite:///writers.db3"
   ]
  },
  {
   "cell_type": "markdown",
   "metadata": {},
   "source": [
    "Check connectivity by running the next cell. The query should return 2 records."
   ]
  },
  {
   "cell_type": "code",
   "execution_count": 4,
   "metadata": {},
   "outputs": [
    {
     "name": "stdout",
     "output_type": "stream",
     "text": [
      " * sqlite:///writers.db3\n",
      "(sqlite3.OperationalError) near \".\": syntax error\n",
      "[SQL: .table]\n",
      "(Background on this error at: http://sqlalche.me/e/e3q8)\n"
     ]
    }
   ],
   "source": [
    "%%sql \n",
    ".table"
   ]
  },
  {
   "cell_type": "markdown",
   "metadata": {},
   "source": [
    "###  Create the database tables and load the data into the database\n",
    "\n",
    "* Upload the files to your Jupyter envirnoment, using the upload button in the upper right\n",
    "* Open a terminal window by selecting \"New / Terminal\" from the upper right\n",
    "\n",
    "In the following steps, replace yournetidhere with your netId and XXX with 430 or 533, as appropriate.\n",
    "\n",
    "* Run ```psql``` to connect to your database. \n",
    "\n",
    "```\n",
    "psql sslmode=require -U sy31 -h comp533.clear.rice.edu -d sy31_db\n",
    "```\n",
    "* Once you are connected to the database use the following commands to create the tables and load the data.\n",
    "\n",
    "    ```\\i A2F19tabledefs.sql``` \n",
    "    \n",
    "    ```\\i responsible_parties.sql``` \n",
    "    \n",
    "    ```\\i overall_officials.sql``` \n",
    "    \n",
    "    ```\\i sponsors.sql``` \n",
    "    \n",
    "    ```\\i factor.sql``` \n",
    "         \n",
    "    ```\\i studies.sql``` \n",
    "    \n",
    "    ```\\i conditions.sql``` \n",
    "    "
   ]
  },
  {
   "cell_type": "markdown",
   "metadata": {},
   "source": [
    "## Queries\n",
    "Answer all of the questions below by writing and executing SQL queries. The queries must contain ONLY the answer to the question (no extra rows or columns). You may need to explore the database a bit prior to generating your final solutions. \n",
    "\n",
    "1 (8 points) We want a master list of the names of all the people in charge in the database.  Write queries to fill in the values in the following table  \n",
    "\n",
    "|                     | # Names | # Unique Names |\n",
    "|---------------------|---------|----------------|\n",
    "| responsible_parties | 1       | 2              |\n",
    "| overall_officials   | 3       | 4              |\n",
    "| sponsors            | 5       | 6              |\n",
    "| total               | 7       | 8              |\n"
   ]
  },
  {
   "cell_type": "code",
   "execution_count": 7,
   "metadata": {},
   "outputs": [
    {
     "name": "stdout",
     "output_type": "stream",
     "text": [
      "Done.\n"
     ]
    },
    {
     "data": {
      "text/html": [
       "<table>\n",
       "    <tr>\n",
       "        <th>count(name)</th>\n",
       "    </tr>\n",
       "    <tr>\n",
       "        <td>112214</td>\n",
       "    </tr>\n",
       "</table>"
      ],
      "text/plain": [
       "[(112214,)]"
      ]
     },
     "execution_count": 7,
     "metadata": {},
     "output_type": "execute_result"
    }
   ],
   "source": [
    "%%sql sqlite://\n",
    "-- query for entry 1\n",
    "select count(name) from responsible_parties;\n"
   ]
  },
  {
   "cell_type": "code",
   "execution_count": 6,
   "metadata": {},
   "outputs": [
    {
     "ename": "SyntaxError",
     "evalue": "unexpected character after line continuation character (<ipython-input-6-f75484ed3345>, line 1)",
     "output_type": "error",
     "traceback": [
      "\u001b[0;36m  File \u001b[0;32m\"<ipython-input-6-f75484ed3345>\"\u001b[0;36m, line \u001b[0;32m1\u001b[0m\n\u001b[0;31m    \\i A2F19tabledefs.sql\u001b[0m\n\u001b[0m                         ^\u001b[0m\n\u001b[0;31mSyntaxError\u001b[0m\u001b[0;31m:\u001b[0m unexpected character after line continuation character\n"
     ]
    }
   ],
   "source": [
    "\\i A2F19tabledefs.sql"
   ]
  },
  {
   "cell_type": "code",
   "execution_count": 8,
   "metadata": {},
   "outputs": [
    {
     "name": "stdout",
     "output_type": "stream",
     "text": [
      "Done.\n"
     ]
    },
    {
     "data": {
      "text/html": [
       "<table>\n",
       "    <tr>\n",
       "        <th>count(distinct(name))</th>\n",
       "    </tr>\n",
       "    <tr>\n",
       "        <td>61334</td>\n",
       "    </tr>\n",
       "</table>"
      ],
      "text/plain": [
       "[(61334,)]"
      ]
     },
     "execution_count": 8,
     "metadata": {},
     "output_type": "execute_result"
    }
   ],
   "source": [
    "%%sql sqlite://\n",
    "-- query for entry 2\n",
    "select count(distinct(name)) from responsible_parties;\n"
   ]
  },
  {
   "cell_type": "code",
   "execution_count": 10,
   "metadata": {},
   "outputs": [
    {
     "name": "stdout",
     "output_type": "stream",
     "text": [
      " * sqlite:///writers.db3\n",
      "Done.\n"
     ]
    },
    {
     "data": {
      "text/html": [
       "<table>\n",
       "    <tr>\n",
       "        <th>count(name)</th>\n",
       "    </tr>\n",
       "    <tr>\n",
       "        <td>0</td>\n",
       "    </tr>\n",
       "</table>"
      ],
      "text/plain": [
       "[(0,)]"
      ]
     },
     "execution_count": 10,
     "metadata": {},
     "output_type": "execute_result"
    }
   ],
   "source": [
    "%%sql\n",
    "-- query for entry 3\n",
    "select count(name) from overall_officials;\n"
   ]
  },
  {
   "cell_type": "code",
   "execution_count": null,
   "metadata": {},
   "outputs": [],
   "source": [
    "%%sql\n",
    "-- query for entry 4\n",
    "select count(distinct(name)) from overall_officials;\n"
   ]
  },
  {
   "cell_type": "code",
   "execution_count": null,
   "metadata": {},
   "outputs": [],
   "source": [
    "%%sql\n",
    "-- query for entry 5\n",
    "select count(name) from sponsors;\n"
   ]
  },
  {
   "cell_type": "code",
   "execution_count": null,
   "metadata": {},
   "outputs": [],
   "source": [
    "%%sql\n",
    "-- query for entry 6\n",
    "select count(distinct(name)) from sponsors;\n"
   ]
  },
  {
   "cell_type": "code",
   "execution_count": null,
   "metadata": {},
   "outputs": [],
   "source": [
    "%%sql\n",
    "-- query for entry 7\n",
    "select count(U.name) from (select name from sponsors  union all select name from overall_officials union all select name from responsible_parties) as U;\n"
   ]
  },
  {
   "cell_type": "code",
   "execution_count": null,
   "metadata": {},
   "outputs": [],
   "source": [
    "%%sql\n",
    "-- query for entry 8\n",
    "select count(U.name) from (select name from sponsors  union  select name from overall_officials union  select name from responsible_parties) as U;\n"
   ]
  },
  {
   "cell_type": "markdown",
   "metadata": {},
   "source": [
    "Replace the numbers in this table with your query results\n",
    "\n",
    "|                     | # Names | # Unique Names |\n",
    "|---------------------|---------|----------------|\n",
    "| responsible_parties | 112214       | 61334              |\n",
    "| overall_officials   | 276769       | 180010              |\n",
    "| sponsors            | 411461       | 47480              |\n",
    "| total               | 800444       | 288824              |"
   ]
  },
  {
   "cell_type": "markdown",
   "metadata": {},
   "source": [
    "9 (2 points) Are there still duplicate entries in the table? If there are, modify query 8 to remove them. Include your query and the final count of the number of unique names across the 3 tables.\n",
    "\n"
   ]
  },
  {
   "cell_type": "markdown",
   "metadata": {},
   "source": [
    "your text answer here\n",
    "|                     | # Names | # Unique Names |\n",
    "|---------------------|---------|----------------|\n",
    "| responsible_parties | 112214       | 61334              |\n",
    "| overall_officials   | 276769       | 180010              |\n",
    "| sponsors            | 411461       | 47480              |\n",
    "| total               | 800444       | 275386              |"
   ]
  },
  {
   "cell_type": "code",
   "execution_count": null,
   "metadata": {},
   "outputs": [],
   "source": [
    "%%sql\n",
    "select count(U.name) from (select distinct(name) from sponsors  union  select name from overall_officials union  select name from responsible_parties) as U;\n"
   ]
  },
  {
   "cell_type": "markdown",
   "metadata": {},
   "source": [
    "10 (4 points) Sort the results of the previous query and examine the results. Give 2 different examples of names that are likely to be duplicates, but are showing up as separate entries. The reason why they are showing up as duplicates must be different for the two examples you provide. Provide the reason why you believe the names are the same.\n"
   ]
  },
  {
   "cell_type": "markdown",
   "metadata": {},
   "source": [
    "your text answer here\n",
    "A.A Voors\n",
    "Adriaan A. Voors, MD, PhD;\n",
    "A. Eden Evins\n",
    "A. Eden Evins, M.D., M.P.H.\n",
    " \n",
    "The Dr. Voors has duplicates because A.A is an abbrev for Adriaan A.;\n",
    "Eden Evins has duplicates because one include the degree and the other doesn't. \n",
    "Each pair of duplicate has same affliations, so I believe they are duplicates."
   ]
  },
  {
   "cell_type": "markdown",
   "metadata": {},
   "source": [
    "11 (4 points) Make 2 suggestions for how to change the data storage structure to reduce the number of these remaining duplicates. \n",
    "\n"
   ]
  },
  {
   "cell_type": "markdown",
   "metadata": {},
   "source": [
    "Use same format for names; do not include degree in names."
   ]
  },
  {
   "cell_type": "markdown",
   "metadata": {},
   "source": [
    "Studies have shown that lifestyle choices can have a big impact on longevity. Let's investigate which studies deal with lifestyle aspects. In particular, we will look at conditions pertaining to \n",
    "* alcohol use\n",
    "* diet\n",
    "* lifestyle\n",
    "* nutrition\n",
    "* sexual activity\n",
    "* substance abuse\n",
    "* tobacco use\n",
    "* weight\n",
    "\n",
    "These factors are all in the ```factor``` table. This table contains two attributes: ```category``` and ```condition```. The conditions are drawn from the ```conditions table```, and are grouped into the categories mentioned above.\n",
    "\n",
    "Let's compute a score that incorporates these factors for each study.\n",
    "\n",
    "12 (2 points) How many studies have conditions that fall into the category of 'nutrition'?"
   ]
  },
  {
   "cell_type": "code",
   "execution_count": 9,
   "metadata": {},
   "outputs": [
    {
     "name": "stdout",
     "output_type": "stream",
     "text": [
      "Done.\n"
     ]
    },
    {
     "data": {
      "text/html": [
       "<table>\n",
       "    <tr>\n",
       "        <th>count( *)</th>\n",
       "    </tr>\n",
       "    <tr>\n",
       "        <td>193</td>\n",
       "    </tr>\n",
       "</table>"
      ],
      "text/plain": [
       "[(193,)]"
      ]
     },
     "execution_count": 9,
     "metadata": {},
     "output_type": "execute_result"
    }
   ],
   "source": [
    "%%sql sqlite://\n",
    "select count( *) from factor where category='nutrition';"
   ]
  },
  {
   "cell_type": "markdown",
   "metadata": {},
   "source": [
    "13 (10 points) Compute a risk factor score that is just the total number of factors covered by the study, ignoring the factor category completely. List the nct_ids and counts of the factors for every study that has at least 4 factors. Sort by nct_id."
   ]
  },
  {
   "cell_type": "code",
   "execution_count": null,
   "metadata": {},
   "outputs": [],
   "source": [
    "%%sql\n",
    "select nct_id, count( *) from conditions group by nct_id having  count(nct_id)>=4 ;"
   ]
  },
  {
   "cell_type": "markdown",
   "metadata": {},
   "source": [
    "14 (10 points) Compute a category score  for each study based on the number of categories covered. Add 1 to the study score if the study has ANY condition listed in the factor table for each category.  Each category can be counted at most once.\n",
    "\n",
    "How many studies have category scores of at least 3?"
   ]
  },
  {
   "cell_type": "code",
   "execution_count": null,
   "metadata": {},
   "outputs": [],
   "source": [
    "%%sql sqlite://\n"
   ]
  },
  {
   "cell_type": "markdown",
   "metadata": {},
   "source": [
    "15 (10 points) How many studies in our database cover none of the conditions in the factor table? \n"
   ]
  },
  {
   "cell_type": "code",
   "execution_count": 13,
   "metadata": {},
   "outputs": [
    {
     "name": "stdout",
     "output_type": "stream",
     "text": [
      "Done.\n"
     ]
    },
    {
     "data": {
      "text/html": [
       "<table>\n",
       "    <tr>\n",
       "        <th>not cover number</th>\n",
       "    </tr>\n",
       "    <tr>\n",
       "        <td>51</td>\n",
       "    </tr>\n",
       "</table>"
      ],
      "text/plain": [
       "[(51,)]"
      ]
     },
     "execution_count": 13,
     "metadata": {},
     "output_type": "execute_result"
    }
   ],
   "source": [
    "%%sql sqlite://\n",
    "select count(studies.nct_id) as 'not cover number' from studies where studies.nct_id not in (select nct_id from conditions)"
   ]
  },
  {
   "cell_type": "markdown",
   "metadata": {},
   "source": [
    "16 (10 points) Rewrite the same query as immediately above, but using a different SQL mechanism (e.g. JOINs vs.  subqueries)"
   ]
  },
  {
   "cell_type": "code",
   "execution_count": null,
   "metadata": {},
   "outputs": [],
   "source": [
    "%%sql"
   ]
  },
  {
   "cell_type": "markdown",
   "metadata": {},
   "source": [
    "17 (10 points)\n",
    "What are the nct_ids of other studies that have all of the conditions in study NCT00507767? Note: you may not hard-code the condition names from study NCT00507767 in your query. If there is more than one study, order by nct_id.\n"
   ]
  },
  {
   "cell_type": "code",
   "execution_count": null,
   "metadata": {},
   "outputs": [],
   "source": [
    "%%sql"
   ]
  },
  {
   "cell_type": "markdown",
   "metadata": {},
   "source": [
    "18 For this question, consider ONLY the data from studies with start\\_date of 2016-06-01, except where otherwise noted (e.g. specific nct_ids)\n",
    "\n",
    "The Jaccard Index (\\url{https://en.wikipedia.org/wiki/Jaccard_index}) provides a similarity measure over sets. We can use the conditions as the set elements for calculating the Jaccard index, taking into consideration conditions in common between two studies and the total number of conditions for each study.\n",
    "\n",
    "Note: Be careful about integer division in your calculations. If you divide two integers, you will get another integer. In this case, we want a decimal value. Consider using the NUMERIC data type when calculating the Jaccard Index.\n",
    "\n",
    "\n",
    " Round all answers to 2 decimal places.\n",
    "\n",
    "18a (10 points) What is the Jaccard Index for studies with nct\\_id NCT03330301 and NCT02742597?\n",
    "You may use the nct\\_ids in your query(s).\n",
    "\n"
   ]
  },
  {
   "cell_type": "code",
   "execution_count": null,
   "metadata": {},
   "outputs": [],
   "source": [
    "%%sql"
   ]
  },
  {
   "cell_type": "markdown",
   "metadata": {},
   "source": [
    "18b (no points, you need this for the next part) Compute the Jaccard Index for every pair of studies, based on conditions. \n",
    "\n",
    "Depending on how you write your queries, they can take a very long time to run. So, you might give some thought as to how to make them more efficient.  Note that there is a base case for computing the Jaccard Index, where if the number of conditions you are comparing from both studies is 0, the Jaccard index is defined to be 1.\n",
    "\n"
   ]
  },
  {
   "cell_type": "code",
   "execution_count": null,
   "metadata": {},
   "outputs": [],
   "source": [
    "%%sql"
   ]
  },
  {
   "cell_type": "markdown",
   "metadata": {},
   "source": [
    "18c (15 points) What is the average non-zero Jaccard index value in our set of studies? In other words, if you exclude pairs for which the Jaccard index value is 0, what is the average score? "
   ]
  },
  {
   "cell_type": "code",
   "execution_count": null,
   "metadata": {},
   "outputs": [],
   "source": [
    "%%sql"
   ]
  },
  {
   "cell_type": "markdown",
   "metadata": {},
   "source": [
    "18d (5 points)\n",
    "What percentage of study pairs have a Jaccard Index of 1?"
   ]
  },
  {
   "cell_type": "code",
   "execution_count": null,
   "metadata": {},
   "outputs": [],
   "source": [
    "%%sql"
   ]
  },
  {
   "cell_type": "code",
   "execution_count": 22,
   "metadata": {},
   "outputs": [
    {
     "name": "stdout",
     "output_type": "stream",
     "text": [
      "Done.\n"
     ]
    },
    {
     "data": {
      "text/html": [
       "<table>\n",
       "    <tr>\n",
       "        <th>Jaccard</th>\n",
       "    </tr>\n",
       "    <tr>\n",
       "        <td>0.07</td>\n",
       "    </tr>\n",
       "</table>"
      ],
      "text/plain": [
       "[(0.07,)]"
      ]
     },
     "execution_count": 22,
     "metadata": {},
     "output_type": "execute_result"
    }
   ],
   "source": [
    "%%sql sqlite://\n",
    "select round(\n",
    "(select count(distinct(c.name)) from conditions c where c.nct_id='NCT03330301' and c.name in (select c1.name from conditions c1 where c1.nct_id='NCT02742597'))\n",
    "* 1.0 /\n",
    "(select count(distinct(c.name)) as v1 from conditions c where c.nct_id='NCT03330301' or c.nct_id='NCT02742597')  \n",
    " , 2)\n",
    "as Jaccard\n",
    "where\n",
    "()"
   ]
  },
  {
   "cell_type": "code",
   "execution_count": 18,
   "metadata": {},
   "outputs": [
    {
     "name": "stdout",
     "output_type": "stream",
     "text": [
      "Done.\n"
     ]
    },
    {
     "data": {
      "text/html": [
       "<table>\n",
       "    <tr>\n",
       "        <th>n1</th>\n",
       "        <th>n2</th>\n",
       "    </tr>\n",
       "    <tr>\n",
       "        <td>alcohol use</td>\n",
       "        <td>diet</td>\n",
       "    </tr>\n",
       "    <tr>\n",
       "        <td>alcohol use</td>\n",
       "        <td>lifestyle</td>\n",
       "    </tr>\n",
       "    <tr>\n",
       "        <td>alcohol use</td>\n",
       "        <td>nutrition</td>\n",
       "    </tr>\n",
       "    <tr>\n",
       "        <td>alcohol use</td>\n",
       "        <td>sexual activity</td>\n",
       "    </tr>\n",
       "    <tr>\n",
       "        <td>alcohol use</td>\n",
       "        <td>substance abuse</td>\n",
       "    </tr>\n",
       "    <tr>\n",
       "        <td>alcohol use</td>\n",
       "        <td>tobacco use</td>\n",
       "    </tr>\n",
       "    <tr>\n",
       "        <td>alcohol use</td>\n",
       "        <td>weight</td>\n",
       "    </tr>\n",
       "    <tr>\n",
       "        <td>diet</td>\n",
       "        <td>lifestyle</td>\n",
       "    </tr>\n",
       "    <tr>\n",
       "        <td>diet</td>\n",
       "        <td>nutrition</td>\n",
       "    </tr>\n",
       "    <tr>\n",
       "        <td>diet</td>\n",
       "        <td>sexual activity</td>\n",
       "    </tr>\n",
       "    <tr>\n",
       "        <td>diet</td>\n",
       "        <td>substance abuse</td>\n",
       "    </tr>\n",
       "    <tr>\n",
       "        <td>diet</td>\n",
       "        <td>tobacco use</td>\n",
       "    </tr>\n",
       "    <tr>\n",
       "        <td>diet</td>\n",
       "        <td>weight</td>\n",
       "    </tr>\n",
       "    <tr>\n",
       "        <td>lifestyle</td>\n",
       "        <td>nutrition</td>\n",
       "    </tr>\n",
       "    <tr>\n",
       "        <td>lifestyle</td>\n",
       "        <td>sexual activity</td>\n",
       "    </tr>\n",
       "    <tr>\n",
       "        <td>lifestyle</td>\n",
       "        <td>substance abuse</td>\n",
       "    </tr>\n",
       "    <tr>\n",
       "        <td>lifestyle</td>\n",
       "        <td>tobacco use</td>\n",
       "    </tr>\n",
       "    <tr>\n",
       "        <td>lifestyle</td>\n",
       "        <td>weight</td>\n",
       "    </tr>\n",
       "    <tr>\n",
       "        <td>nutrition</td>\n",
       "        <td>sexual activity</td>\n",
       "    </tr>\n",
       "    <tr>\n",
       "        <td>nutrition</td>\n",
       "        <td>substance abuse</td>\n",
       "    </tr>\n",
       "    <tr>\n",
       "        <td>nutrition</td>\n",
       "        <td>tobacco use</td>\n",
       "    </tr>\n",
       "    <tr>\n",
       "        <td>nutrition</td>\n",
       "        <td>weight</td>\n",
       "    </tr>\n",
       "    <tr>\n",
       "        <td>sexual activity</td>\n",
       "        <td>substance abuse</td>\n",
       "    </tr>\n",
       "    <tr>\n",
       "        <td>sexual activity</td>\n",
       "        <td>tobacco use</td>\n",
       "    </tr>\n",
       "    <tr>\n",
       "        <td>sexual activity</td>\n",
       "        <td>weight</td>\n",
       "    </tr>\n",
       "    <tr>\n",
       "        <td>substance abuse</td>\n",
       "        <td>tobacco use</td>\n",
       "    </tr>\n",
       "    <tr>\n",
       "        <td>substance abuse</td>\n",
       "        <td>weight</td>\n",
       "    </tr>\n",
       "    <tr>\n",
       "        <td>tobacco use</td>\n",
       "        <td>weight</td>\n",
       "    </tr>\n",
       "</table>"
      ],
      "text/plain": [
       "[('alcohol use', 'diet'),\n",
       " ('alcohol use', 'lifestyle'),\n",
       " ('alcohol use', 'nutrition'),\n",
       " ('alcohol use', 'sexual activity'),\n",
       " ('alcohol use', 'substance abuse'),\n",
       " ('alcohol use', 'tobacco use'),\n",
       " ('alcohol use', 'weight'),\n",
       " ('diet', 'lifestyle'),\n",
       " ('diet', 'nutrition'),\n",
       " ('diet', 'sexual activity'),\n",
       " ('diet', 'substance abuse'),\n",
       " ('diet', 'tobacco use'),\n",
       " ('diet', 'weight'),\n",
       " ('lifestyle', 'nutrition'),\n",
       " ('lifestyle', 'sexual activity'),\n",
       " ('lifestyle', 'substance abuse'),\n",
       " ('lifestyle', 'tobacco use'),\n",
       " ('lifestyle', 'weight'),\n",
       " ('nutrition', 'sexual activity'),\n",
       " ('nutrition', 'substance abuse'),\n",
       " ('nutrition', 'tobacco use'),\n",
       " ('nutrition', 'weight'),\n",
       " ('sexual activity', 'substance abuse'),\n",
       " ('sexual activity', 'tobacco use'),\n",
       " ('sexual activity', 'weight'),\n",
       " ('substance abuse', 'tobacco use'),\n",
       " ('substance abuse', 'weight'),\n",
       " ('tobacco use', 'weight')]"
      ]
     },
     "execution_count": 18,
     "metadata": {},
     "output_type": "execute_result"
    }
   ],
   "source": [
    "%%sql sqlite://\n",
    "select \n",
    "    distinct\n",
    "    t1.category as n1,\n",
    "    t2.category as n2\n",
    "from \n",
    "    factor t1,\n",
    "    factor t2\n",
    "where n1 < n2"
   ]
  },
  {
   "cell_type": "code",
   "execution_count": 16,
   "metadata": {},
   "outputs": [
    {
     "name": "stdout",
     "output_type": "stream",
     "text": [
      "Done.\n"
     ]
    },
    {
     "data": {
      "text/html": [
       "<table>\n",
       "    <tr>\n",
       "        <th>count(distinct(category))</th>\n",
       "    </tr>\n",
       "    <tr>\n",
       "        <td>8</td>\n",
       "    </tr>\n",
       "</table>"
      ],
      "text/plain": [
       "[(8,)]"
      ]
     },
     "execution_count": 16,
     "metadata": {},
     "output_type": "execute_result"
    }
   ],
   "source": [
    "%%sql sqlite://\n",
    "select count(distinct(category)) from factor;"
   ]
  },
  {
   "cell_type": "code",
   "execution_count": 23,
   "metadata": {},
   "outputs": [
    {
     "name": "stdout",
     "output_type": "stream",
     "text": [
      "total 366328\n",
      "-rw-r--r--   1 zhuliu  staff    30K Sep 24 21:47 A2-SQL.ipynb\n",
      "drwx------  10 zhuliu  staff   320B Sep 24 21:40 A2F19data\n",
      "-r-xr-xr-x   1 zhuliu  staff    19M Sep 22 20:26 A2F19data.zip\n",
      "-rw-r--r--   1 zhuliu  staff   2.1K Sep 22 21:42 Untitled.ipynb\n",
      "-rw-r--r--   1 zhuliu  staff    79M Sep 22 20:49 data.db3\n",
      "-rw-r--r--   1 zhuliu  staff    79M Sep 22 20:49 writers.db3\n"
     ]
    }
   ],
   "source": [
    "%%bash\n",
    "ls -lh"
   ]
  },
  {
   "cell_type": "code",
   "execution_count": null,
   "metadata": {},
   "outputs": [],
   "source": []
  }
 ],
 "metadata": {
  "kernelspec": {
   "display_name": "Python 3",
   "language": "python",
   "name": "python3"
  },
  "language_info": {
   "codemirror_mode": {
    "name": "ipython",
    "version": 3
   },
   "file_extension": ".py",
   "mimetype": "text/x-python",
   "name": "python",
   "nbconvert_exporter": "python",
   "pygments_lexer": "ipython3",
   "version": "3.7.4"
  }
 },
 "nbformat": 4,
 "nbformat_minor": 2
}
