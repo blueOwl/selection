{
 "cells": [
  {
   "cell_type": "code",
   "execution_count": 1,
   "metadata": {},
   "outputs": [
    {
     "data": {
      "text/plain": [
       "['ALPHA',\n",
       " 'ALPHA12',\n",
       " 'ALPHA21',\n",
       " 'ENV_PRESS_PERIOD',\n",
       " 'ENV_R',\n",
       " 'ENV_STRESS_COF',\n",
       " 'GEN_INFO_SIZE',\n",
       " 'HORZ_MAX',\n",
       " 'IMPECT_R',\n",
       " 'LIFE_TIME',\n",
       " 'MAX_CAPACITY',\n",
       " 'MAX_GEN_TICK',\n",
       " 'MUTATION_THRES',\n",
       " 'MUTATION_VAR',\n",
       " 'MUT_GEN_LENGHT',\n",
       " 'POS_DIS',\n",
       " 'TYPE_MAP',\n",
       " 'T_MAX',\n",
       " 'T_MIN',\n",
       " 'T_OPT',\n",
       " 'VERT_MAX',\n",
       " '__builtins__',\n",
       " '__cached__',\n",
       " '__doc__',\n",
       " '__file__',\n",
       " '__loader__',\n",
       " '__name__',\n",
       " '__package__',\n",
       " '__spec__',\n",
       " 'beta',\n",
       " 'beta_death',\n",
       " 'compute_her_num',\n",
       " 'compute_max_her_geneinfo',\n",
       " 'compute_max_ver_geneinfo',\n",
       " 'compute_mean_her_env_prob',\n",
       " 'compute_mean_her_geneinfo',\n",
       " 'compute_mean_her_prob',\n",
       " 'compute_mean_her_self_prob',\n",
       " 'compute_mean_ver_env_prob',\n",
       " 'compute_mean_ver_geneinfo',\n",
       " 'compute_mean_ver_prob',\n",
       " 'compute_mean_ver_self_prob',\n",
       " 'compute_min_her_geneinfo',\n",
       " 'compute_min_ver_geneinfo',\n",
       " 'compute_type_ratio',\n",
       " 'compute_ver_num',\n",
       " 'current_value',\n",
       " 'fix_value',\n",
       " 'get_cur_press',\n",
       " 'math',\n",
       " 'np',\n",
       " 'range_filter',\n",
       " 'sin_fluctuation']"
      ]
     },
     "execution_count": 1,
     "metadata": {},
     "output_type": "execute_result"
    }
   ],
   "source": [
    "import env_settings\n",
    "dir(env_settings)"
   ]
  },
  {
   "cell_type": "code",
   "execution_count": 2,
   "metadata": {},
   "outputs": [],
   "source": [
    "%matplotlib inline\n",
    "import matplotlib.pyplot as plt\n",
    "plt.style.use('seaborn-whitegrid')"
   ]
  },
  {
   "cell_type": "code",
   "execution_count": 6,
   "metadata": {},
   "outputs": [
    {
     "data": {
      "image/png": "[encoded data removed]",
      "text/plain": [
       "<Figure size 432x288 with 1 Axes>"
      ]
     },
     "metadata": {
      "needs_background": "light"
     },
     "output_type": "display_data"
    }
   ],
   "source": [
    "y = env_settings.sin_fluctuation[:100]\n",
    "x = list(range(len(y[:100])))\n",
    "plt.plot(x, y, 'o', color='black');"
   ]
  },
  {
   "cell_type": "markdown",
   "metadata": {},
   "source": [
    "# Only show 100 points"
   ]
  },
  {
   "cell_type": "code",
   "execution_count": 8,
   "metadata": {},
   "outputs": [
    {
     "data": {
      "image/png": "[encoded data removed]",
      "text/plain": [
       "<Figure size 432x288 with 1 Axes>"
      ]
     },
     "metadata": {
      "needs_background": "light"
     },
     "output_type": "display_data"
    }
   ],
   "source": [
    "y = env_settings.fix_value[:100]\n",
    "x = list(range(len(y[:100])))\n",
    "plt.plot(x, y, 'o', color='black');"
   ]
  },
  {
   "cell_type": "code",
   "execution_count": null,
   "metadata": {},
   "outputs": [],
   "source": []
  }
 ],
 "metadata": {
  "kernelspec": {
   "display_name": "Python 3",
   "language": "python",
   "name": "python3"
  },
  "language_info": {
   "codemirror_mode": {
    "name": "ipython",
    "version": 3
   },
   "file_extension": ".py",
   "mimetype": "text/x-python",
   "name": "python",
   "nbconvert_exporter": "python",
   "pygments_lexer": "ipython3",
   "version": "3.7.0"
  }
 },
 "nbformat": 4,
 "nbformat_minor": 2
}
