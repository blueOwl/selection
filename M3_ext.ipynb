{
 "cells": [
  {
   "cell_type": "code",
   "execution_count": null,
   "metadata": {},
   "outputs": [],
   "source": [
    "from mesa.batchrunner import BatchRunner, BatchRunnerMP\n",
    "from mesa.time import RandomActivation\n",
    "from model import *\n",
    "from customizeTime import *\n",
    "import pickle\n",
    "import numpy as np\n",
    "import uuid\n",
    "\n",
    "from customizeTime import *\n",
    "import env_settings\n",
    "\n",
    "TYPE_MAP = {0:'vert',\n",
    "            1:'horz'}\n",
    "\n",
    "settings.MUTATION_PRO = 0.01\n",
    "top_k = 5\n",
    "class A_3(GenAgent):\n",
    "    def muta_genetic_info(self):\n",
    "        # no need for mutation\n",
    "        pass\n",
    "    def get_gen_info_vetical(self):\n",
    "        idx1 = np.argsort(self.gen_info - self.model.cur_press)[:40]\n",
    "        idx2 = np.random.choice(range(len(self.gen_info)), size=len(self.gen_info) - 40,  replace=True)\n",
    "        info = np.concatenate((self.gen_info[idx1], self.gen_info[idx2]))\n",
    "        return self.mutate_gen_info(info)\n",
    "\n",
    "    def get_gen_info_heri(self):\n",
    "        pos = self.pos\n",
    "        neighbour_info = np.concatenate([i.gen_info for i in self.model.grid.get_neighbors(pos, True, include_center=True, radius=settings.IMPECT_R) if i.gen_type == 1])\n",
    "        idx = np.argsort(neighbour_info - self.model.cur_press)[:len(self.gen_info)]\n",
    "        info = self.gen_info[idx]\n",
    "        return self.mutate_gen_info(info)\n",
    "\n",
    "    \n",
    "        \n",
    "class M_3(GenModel):\n",
    "    def get_agent_config(self):\n",
    "        return A_3\n",
    "    \n",
    "    def init_env(self):\n",
    "        #no influence\n",
    "        return [self.env_val + self.env_slope * i for i in range(10000)]\n",
    "    \n",
    "    def get_schedule(self):\n",
    "        return RandomActivationMutationWithConstrain\n",
    "    #\n",
    "    def __init__(self, N, width, height, specific_kargs):\n",
    "        #mut_var, init_var, env_val\n",
    "        self.model_name = 'M3'\n",
    "        \n",
    "        init_ratio = specific_kargs['init_ratio']\n",
    "        self.env_val = specific_kargs['env_val']\n",
    "        self.env_slope = specific_kargs['slope']\n",
    "         \n",
    "        settings.INIT_MEAN = specific_kargs['gene_mean']\n",
    "        settings.INIT_SD = specific_kargs['gene_sd']\n",
    "        settings.INIT_LOW = settings.INIT_MEAN - 1 * 2 * settings.INIT_SD\n",
    "        settings.INIT_HIGH = settings.INIT_MEAN + 1 * 2 * settings.INIT_SD\n",
    "\n",
    "        settings.POPU_MUTA_SD = specific_kargs['muta_sd']\n",
    "        settings.POPU_MUTA_LOW = -2 * settings.POPU_MUTA_SD\n",
    "        settings.POPU_MUTA_HIGH = 2 * settings.POPU_MUTA_SD\n",
    "        \n",
    "        self.specific_kargs_str = '_'.join([str(i) for i in (self.env_val, settings.INIT_SD ,settings.POPU_MUTA_SD)])\n",
    "        super().__init__(N, width, height, init_ratio)\n",
    "        \n",
    "\n",
    "    \n",
    "    def model_level_record_init(self):\n",
    "        data_file_name = check_path(\"./res/\")\n",
    "        data_file_name = check_path(data_file_name + self.model_name)\n",
    "        data_file_name = check_path(data_file_name + \"/\" + self.specific_kargs_str)\n",
    "        data_file_name = data_file_name + '/' + str(uuid.uuid1())\n",
    "        print('data in file ', data_file_name)\n",
    "        self.data_file = open(data_file_name, 'w')\n",
    "        self.data_file.write('#' + '\\t'.join(\n",
    "            ('step',\n",
    "             TYPE_MAP[0], TYPE_MAP[0] + '_beta', TYPE_MAP[0] + '_gene', 'var',  \n",
    "             TYPE_MAP[1], TYPE_MAP[1] + '_beta', TYPE_MAP[1] + '_gene', 'var'))+ '\\n')\n",
    "       \n",
    "    def get_popu_beta(self, gen_type):\n",
    "        return np.mean([agent.self_gen_cof for agent in self.schedule.agents if agent.gen_type == gen_type])\n",
    "    \n",
    "    def get_gene_mean(self, gen_type):\n",
    "        return [np.mean(agent.gen_info) for agent in self.schedule.agents if agent.gen_type == gen_type]\n",
    "    \n",
    "    def get_popu_gene_mean(self, gene_mean):\n",
    "        return np.mean(gene_mean)\n",
    "\n",
    "    def get_popu_gene_var(self, gene_mean):\n",
    "        return np.var(gene_mean)\n",
    "\n",
    "    def collect_data(self):\n",
    "        ver_mean = self.get_gene_mean(0)\n",
    "        hor_mean = self.get_gene_mean(1)\n",
    "        return (self.schedule.steps,\n",
    "                self.get_ver_popu_size(), self.get_popu_beta(0), self.get_popu_gene_mean(ver_mean), self.get_popu_gene_var(ver_mean),\n",
    "                self.get_her_popu_size(), self.get_popu_beta(1), self.get_popu_gene_mean(hor_mean), self.get_popu_gene_var(hor_mean))\n",
    "        \n",
    "        \n",
    "    def step(self):\n",
    "        \n",
    "        data = self.collect_data()\n",
    "        #print(data)\n",
    "        self.data_file.write('\\t'.join([str(d) for d in data]) + '\\n')\n",
    "        if self.schedule.steps % 100 == 0: \n",
    "            self.data_file.flush()\n",
    "        super().step()\n",
    "        "
   ]
  },
  {
   "cell_type": "code",
   "execution_count": 1,
   "metadata": {},
   "outputs": [
    {
     "ename": "NameError",
     "evalue": "name 'M_3' is not defined",
     "output_type": "error",
     "traceback": [
      "\u001b[0;31m---------------------------------------------------------------------------\u001b[0m",
      "\u001b[0;31mNameError\u001b[0m                                 Traceback (most recent call last)",
      "\u001b[0;32m<ipython-input-1-218080adbff4>\u001b[0m in \u001b[0;36m<module>\u001b[0;34m\u001b[0m\n\u001b[1;32m     11\u001b[0m \u001b[0;34m\u001b[0m\u001b[0m\n\u001b[1;32m     12\u001b[0m \u001b[0mpara\u001b[0m \u001b[0;34m=\u001b[0m \u001b[0;34m{\u001b[0m\u001b[0;34m**\u001b[0m\u001b[0mvariable_params\u001b[0m\u001b[0;34m,\u001b[0m \u001b[0;34m**\u001b[0m\u001b[0mfixed_params\u001b[0m\u001b[0;34m}\u001b[0m\u001b[0;34m\u001b[0m\u001b[0;34m\u001b[0m\u001b[0m\n\u001b[0;32m---> 13\u001b[0;31m \u001b[0mm\u001b[0m \u001b[0;34m=\u001b[0m \u001b[0mM_3\u001b[0m\u001b[0;34m(\u001b[0m\u001b[0;34m**\u001b[0m\u001b[0mpara\u001b[0m\u001b[0;34m)\u001b[0m\u001b[0;34m\u001b[0m\u001b[0;34m\u001b[0m\u001b[0m\n\u001b[0m\u001b[1;32m     14\u001b[0m \u001b[0mm\u001b[0m\u001b[0;34m.\u001b[0m\u001b[0mdata_file\u001b[0m \u001b[0;34m=\u001b[0m \u001b[0msys\u001b[0m\u001b[0;34m.\u001b[0m\u001b[0mstdout\u001b[0m\u001b[0;34m\u001b[0m\u001b[0;34m\u001b[0m\u001b[0m\n\u001b[1;32m     15\u001b[0m \u001b[0;32mwhile\u001b[0m \u001b[0;32mTrue\u001b[0m\u001b[0;34m:\u001b[0m\u001b[0;34m\u001b[0m\u001b[0;34m\u001b[0m\u001b[0m\n",
      "\u001b[0;31mNameError\u001b[0m: name 'M_3' is not defined"
     ]
    }
   ],
   "source": [
    "import sys\n",
    "\n",
    "#0.01, 0.005, 0.001\n",
    "sys.argv = 'm3 0.1 0.02'.split(' ')\n",
    "\n",
    "muta_sd, slope = float(sys.argv[1]), float(sys.argv[2])\n",
    "\n",
    "fixed_params = {'N':2000, 'width':100, 'height':100}\n",
    "\n",
    "variable_params = {'specific_kargs': {'slope': slope,'env_val': 0.5 , 'init_ratio':0.5, 'gene_mean':0.5, 'gene_sd':muta_sd, 'muta_sd':muta_sd}}\n",
    "\n",
    "para = {**variable_params, **fixed_params}\n",
    "m = M_3(**para)\n",
    "m.data_file = sys.stdout\n",
    "while True:\n",
    "    m.step()"
   ]
  },
  {
   "cell_type": "code",
   "execution_count": 14,
   "metadata": {},
   "outputs": [
    {
     "data": {
      "text/plain": [
       "array([0, 1, 2, 3, 4, 5, 6, 7, 8, 9, 0, 1, 2, 3, 4, 5, 6, 7, 8, 9])"
      ]
     },
     "execution_count": 14,
     "metadata": {},
     "output_type": "execute_result"
    }
   ],
   "source": [
    "import numpy as np\n",
    "np.concatenate((np.array(range(10)), np.array(range(10))))"
   ]
  },
  {
   "cell_type": "code",
   "execution_count": null,
   "metadata": {},
   "outputs": [],
   "source": []
  }
 ],
 "metadata": {
  "kernelspec": {
   "display_name": "Python 3",
   "language": "python",
   "name": "python3"
  },
  "language_info": {
   "codemirror_mode": {
    "name": "ipython",
    "version": 3
   },
   "file_extension": ".py",
   "mimetype": "text/x-python",
   "name": "python",
   "nbconvert_exporter": "python",
   "pygments_lexer": "ipython3",
   "version": "3.7.4"
  }
 },
 "nbformat": 4,
 "nbformat_minor": 2
}
