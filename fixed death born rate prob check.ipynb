{
 "cells": [
  {
   "cell_type": "code",
   "execution_count": 1,
   "metadata": {},
   "outputs": [],
   "source": [
    "from mesa.batchrunner import BatchRunner, BatchRunnerMP\n",
    "from model import *\n",
    "import pickle\n",
    "import numpy as np\n",
    "\n",
    "\n",
    "def compute_ratio(model):\n",
    "    agent_types = [agent.gen_type for agent in model.schedule.agents]\n",
    "    if len(agent_types): return 1 - (sum(agent_types) / len(agent_types))\n",
    "    else:return 0"
   ]
  },
  {
   "cell_type": "code",
   "execution_count": 2,
   "metadata": {},
   "outputs": [
    {
     "name": "stderr",
     "output_type": "stream",
     "text": [
      "\r",
      "0it [00:00, ?it/s]"
     ]
    },
    {
     "name": "stdout",
     "output_type": "stream",
     "text": [
      "0 population size:  2000\n",
      "0 population size:  2000\n",
      "1 population size:  1409\n",
      "1 population size:  1460\n",
      "2 population size:  1033\n",
      "2 population size:  1068\n",
      "3 population size:  748\n",
      "3 population size:  785\n",
      "4 population size:  527\n",
      "4 population size:  575\n",
      "5 population size:  386\n",
      "5 population size:  440\n",
      "6 population size:  289\n",
      "7 population size:  205\n",
      "6 population size:  323\n",
      "8 population size:  169\n",
      "9 population size:  118\n",
      "7 population size:  220\n",
      "10 population size:  106\n",
      "8 population size:  187\n",
      "11 population size:  71\n",
      "12 population size:  44\n",
      "13 population size:  28\n",
      "14 population size:  25\n",
      "9 population size:  138\n",
      "15 population size:  28\n",
      "16 population size:  22\n",
      "17 population size:  21\n",
      "18 population size:  10\n",
      "19 population size:  8\n",
      "20 population size:  10\n",
      "21 population size:  6\n",
      "22 population size:  5\n",
      "10 population size:  100\n",
      "23 population size:  3\n",
      "24 population size:  1\n",
      "25 population size:  2\n",
      "26 population size:  0\n",
      "27 population size:  0\n",
      "28 population size:  0\n",
      "29 population size:  0\n",
      "30 population size:  0\n",
      "31 population size:  0\n",
      "32 population size:  0\n",
      "33 population size:  0\n",
      "34 population size:  0\n",
      "35 population size:  0\n",
      "36 population size:  0\n",
      "37 population size:  0\n",
      "38 population size:  0\n",
      "39 population size:  0\n",
      "40 population size:  0\n",
      "41 population size:  0\n",
      "42 population size:  0\n",
      "43 population size:  0\n",
      "44 population size:  0\n",
      "45 population size:  0\n",
      "46 population size:  0\n",
      "47 population size:  0\n",
      "48 population size:  0\n",
      "49 population size:  0\n"
     ]
    },
    {
     "name": "stderr",
     "output_type": "stream",
     "text": [
      "\r",
      "1it [00:03,  3.24s/it]"
     ]
    },
    {
     "name": "stdout",
     "output_type": "stream",
     "text": [
      "11 population size:  79\n",
      "12 population size:  62\n",
      "13 population size:  52\n",
      "14 population size:  35\n",
      "15 population size:  36\n",
      "16 population size:  35\n",
      "17 population size:  24\n",
      "18 population size:  20\n",
      "19 population size:  8\n",
      "20 population size:  5\n",
      "21 population size:  5\n",
      "22 population size:  4\n",
      "23 population size:  0\n",
      "24 population size:  0\n",
      "25 population size:  0\n",
      "26 population size:  0\n",
      "27 population size:  0\n",
      "28 population size:  0\n",
      "29 population size:  0\n",
      "30 population size:  0\n",
      "31 population size:  0\n",
      "32 population size:  0\n",
      "33 population size:  0\n",
      "34 population size:  0\n",
      "35 population size:  0\n",
      "36 population size:  0\n",
      "37 population size:  0\n",
      "38 population size:  0\n",
      "39 population size:  0\n",
      "40 population size:  0\n",
      "41 population size:  0\n",
      "42 population size:  0\n",
      "43 population size:  0\n",
      "44 population size:  0\n",
      "45 population size:  0\n",
      "46 population size:  0\n",
      "47 population size:  0\n",
      "48 population size:  0\n",
      "49 population size:  0\n"
     ]
    },
    {
     "name": "stderr",
     "output_type": "stream",
     "text": [
      "2it [00:03,  2.34s/it]\n"
     ]
    }
   ],
   "source": [
    "class SimpleAgent(GenAgent):\n",
    "    def check_env_press(self):\n",
    "        theta = 0.5\n",
    "        coin = np.random.random()\n",
    "        if coin <= theta:\n",
    "            self.lifetime = 0\n",
    "        else:\n",
    "            self.lifetime = 2    \n",
    "    def get_gener_p(self):\n",
    "        return 0.5\n",
    "    \n",
    "class SimpleModel(GenModel):\n",
    "    def get_agent_config(self):\n",
    "        return SimpleAgent\n",
    "\n",
    "fixed_params = {'N':2000, 'width':100, 'height':100}\n",
    "\n",
    "variable_params = {'init_ratio': [0.5]}\n",
    "\n",
    "batch_run = BatchRunnerMP(\n",
    "    SimpleModel, 5,\n",
    "    variable_parameters=variable_params,\n",
    "    fixed_parameters=fixed_params,\n",
    "    iterations=2,\n",
    "    max_steps=50,\n",
    "    model_reporters={\"two type ratio\": compute_ratio}\n",
    ")\n",
    "batch_run.run_all()\n",
    "run_data = batch_run.get_model_vars_dataframe()"
   ]
  },
  {
   "cell_type": "code",
   "execution_count": null,
   "metadata": {},
   "outputs": [],
   "source": []
  }
 ],
 "metadata": {
  "kernelspec": {
   "display_name": "Python 3",
   "language": "python",
   "name": "python3"
  },
  "language_info": {
   "codemirror_mode": {
    "name": "ipython",
    "version": 3
   },
   "file_extension": ".py",
   "mimetype": "text/x-python",
   "name": "python",
   "nbconvert_exporter": "python",
   "pygments_lexer": "ipython3",
   "version": "3.7.0"
  }
 },
 "nbformat": 4,
 "nbformat_minor": 2
}
