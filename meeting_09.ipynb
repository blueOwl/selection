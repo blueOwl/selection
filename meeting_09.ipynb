{
 "cells": [
  {
   "cell_type": "code",
   "execution_count": 2,
   "metadata": {},
   "outputs": [],
   "source": [
    "from mesa.batchrunner import BatchRunner, BatchRunnerMP\n",
    "from mesa.time import RandomActivation\n",
    "from model import *\n",
    "from customizeTime import *\n",
    "import pickle\n",
    "import numpy as np\n",
    "import uuid\n",
    "\n",
    "from customizeTime import *\n",
    "import env_settings\n",
    "\n",
    "TYPE_MAP = {0:'vert',\n",
    "            1:'horz'}\n",
    "\n",
    "settings.MUTATION_PRO = 0.01\n",
    "\n",
    "class A_2(GenAgent):\n",
    "    def muta_genetic_info(self):\n",
    "        # no need for mutation\n",
    "        pass\n",
    "    \n",
    "        \n",
    "class M_2(GenModel):\n",
    "    def get_agent_config(self):\n",
    "        return A_2\n",
    "    \n",
    "    def init_env(self):\n",
    "        #no influence\n",
    "        return [self.env_val] * 5000\n",
    "    \n",
    "    def get_schedule(self):\n",
    "        return RandomActivationMutationWithConstrain\n",
    "    #\n",
    "    def __init__(self, N, width, height, specific_kargs):\n",
    "        #mut_var, init_var, env_val\n",
    "        self.model_name = 'M2'\n",
    "        \n",
    "        init_ratio = specific_kargs['init_ratio']\n",
    "        self.env_val = specific_kargs['env_val']\n",
    "        \n",
    "        \n",
    "        settings.INIT_MEAN = specific_kargs['gene_mean']\n",
    "        settings.INIT_SD = specific_kargs['gene_sd']\n",
    "        settings.INIT_LOW = settings.INIT_MEAN - 1 * 2 * settings.INIT_SD\n",
    "        settings.INIT_HIGH = settings.INIT_MEAN + 1 * 2 * settings.INIT_SD\n",
    "\n",
    "        settings.POPU_MUTA_SD = specific_kargs['muta_sd']\n",
    "        settings.POPU_MUTA_LOW = -2 * settings.POPU_MUTA_SD\n",
    "        settings.POPU_MUTA_HIGH = 2 * settings.POPU_MUTA_SD\n",
    "        \n",
    "        self.specific_kargs_str = '_'.join([str(i) for i in (self.env_val, settings.INIT_SD ,settings.POPU_MUTA_SD)])\n",
    "        super().__init__(N, width, height, init_ratio)\n",
    "        \n",
    "\n",
    "    \n",
    "    def model_level_record_init(self):\n",
    "        data_file_name = check_path(\"./res/\")\n",
    "        data_file_name = check_path(data_file_name + self.model_name)\n",
    "        data_file_name = check_path(data_file_name + \"/\" + self.specific_kargs_str)\n",
    "        data_file_name = data_file_name + '/' + str(uuid.uuid1())\n",
    "        print('data in file ', data_file_name)\n",
    "        self.data_file = open(data_file_name, 'w')\n",
    "        self.data_file.write('#' + '\\t'.join(\n",
    "            ('step',\n",
    "             TYPE_MAP[0], TYPE_MAP[0] + '_beta', TYPE_MAP[0] + '_gene', 'var',  \n",
    "             TYPE_MAP[1], TYPE_MAP[1] + '_beta', TYPE_MAP[1] + '_gene', 'var'))+ '\\n')\n",
    "       \n",
    "    def get_popu_beta(self, gen_type):\n",
    "        return np.mean([agent.self_gen_cof for agent in self.schedule.agents if agent.gen_type == gen_type])\n",
    "    \n",
    "    def get_gene_mean(self, gen_type):\n",
    "        return [np.mean(agent.gen_info) for agent in self.schedule.agents if agent.gen_type == gen_type]\n",
    "    \n",
    "    def get_popu_gene_mean(self, gene_mean):\n",
    "        return np.mean(gene_mean)\n",
    "\n",
    "    def get_popu_gene_var(self, gene_mean):\n",
    "        return np.var(gene_mean)\n",
    "\n",
    "    def collect_data(self):\n",
    "        ver_mean = self.get_gene_mean(0)\n",
    "        hor_mean = self.get_gene_mean(1)\n",
    "        return (self.schedule.steps,\n",
    "                self.get_ver_popu_size(), self.get_popu_beta(0), self.get_popu_gene_mean(ver_mean), self.get_popu_gene_var(ver_mean),\n",
    "                self.get_her_popu_size(), self.get_popu_beta(1), self.get_popu_gene_mean(hor_mean), self.get_popu_gene_var(hor_mean))\n",
    "        \n",
    "        \n",
    "    def step(self):\n",
    "        \n",
    "        data = self.collect_data()\n",
    "        #print(data)\n",
    "        sys.stdout.write('\\t'.join([str(d) for d in data]) + '\\n')\n",
    "        #if self.schedule.steps % 10 == 0: \n",
    "        self.data_file.flush()\n",
    "        super().step()\n",
    "        \n",
    "        \n"
   ]
  },
  {
   "cell_type": "code",
   "execution_count": 3,
   "metadata": {},
   "outputs": [
    {
     "name": "stderr",
     "output_type": "stream",
     "text": [
      "\r",
      "0it [00:00, ?it/s]"
     ]
    },
    {
     "name": "stdout",
     "output_type": "stream",
     "text": [
      "data in file  ./res/M2/1.0_1.0_1.0/c612923e-d1bc-11e9-9769-f2189850a77c\n",
      "0\t991\t0.7290534623842985\t0.4980944211790449\t0.019037327564103573\t1009\t0.7408649293584868\t0.5079339952032912\t0.01700611756491851\n",
      "0 population size:  2000\n",
      "1\t1281\t0.7510180871485448\t0.5256992238426386\t0.024689130077207532\t1361\t0.7572527333890334\t0.525374514855372\t0.017784953846768516\n",
      "1 population size:  2642\n",
      "2\t1609\t0.7727346347468089\t0.5551249174478022\t0.029336350431470946\t1725\t0.7720725211167061\t0.5403360161338501\t0.016956737574118357\n",
      "2 population size:  3334\n",
      "3\t2011\t0.7954968766543249\t0.5845726228868915\t0.03232783395707735\t2147\t0.7833662927623188\t0.5538585004165059\t0.017653827959796486\n",
      "3 population size:  4158\n",
      "4\t2452\t0.8199553645236999\t0.6184934103776087\t0.034423997821650176\t2588\t0.7952225522732052\t0.5674846075480929\t0.017662577787043002\n",
      "4 population size:  5040\n",
      "5\t2945\t0.8398278809758647\t0.6507996464346272\t0.038362895450448777\t2968\t0.8052186035151997\t0.5793982736504689\t0.017725477220732724\n",
      "5 population size:  5913\n",
      "6\t3417\t0.8558170750689603\t0.6792685254601901\t0.04118468602196957\t3270\t0.8176968608790978\t0.5941677217634974\t0.017959299961690364\n",
      "6 population size:  6687\n",
      "7\t3826\t0.8722779636062973\t0.7061033210237044\t0.04171438090521935\t3478\t0.8296985120571884\t0.6098206774108517\t0.01821027570848152\n",
      "7 population size:  7304\n",
      "8\t4171\t0.8870970136726186\t0.7336528451800669\t0.04235801419462868\t3615\t0.8420981940728812\t0.6257159716361886\t0.018184025536169993\n",
      "8 population size:  7786\n",
      "9\t4494\t0.8984585783919369\t0.7560265008138372\t0.04232342159664585\t3616\t0.8541569085329415\t0.6412557122206921\t0.017282642240357842\n",
      "9 population size:  8110\n"
     ]
    },
    {
     "name": "stderr",
     "output_type": "stream",
     "text": [
      "Process ForkPoolWorker-1:\n",
      "Traceback (most recent call last):\n",
      "  File \"/usr/local/lib/python3.7/site-packages/multiprocess/process.py\", line 297, in _bootstrap\n",
      "    self.run()\n",
      "  File \"/usr/local/lib/python3.7/site-packages/multiprocess/process.py\", line 99, in run\n",
      "    self._target(*self._args, **self._kwargs)\n",
      "  File \"/usr/local/lib/python3.7/site-packages/multiprocess/pool.py\", line 121, in worker\n",
      "    result = (True, func(*args, **kwds))\n",
      "  File \"/usr/local/lib/python3.7/site-packages/pathos/helpers/mp_helper.py\", line 15, in <lambda>\n",
      "    func = lambda args: f(*args)\n",
      "  File \"/usr/local/lib/python3.7/site-packages/mesa/batchrunner.py\", line 153, in run_iteration\n",
      "    self.run_model(model)\n",
      "  File \"/usr/local/lib/python3.7/site-packages/mesa/batchrunner.py\", line 178, in run_model\n",
      "    model.step()\n",
      "  File \"<ipython-input-2-9cfa5184d967>\", line 95, in step\n",
      "    super().step()\n",
      "  File \"/Users/zhuliu/projects/ye/selection/model.py\", line 151, in step\n",
      "    self.schedule.step()\n",
      "  File \"/Users/zhuliu/projects/ye/selection/customizeTime.py\", line 50, in step\n",
      "    for agent in self.agent_buffer(shuffled=True):\n",
      "  File \"/usr/local/lib/python3.7/site-packages/mesa/time.py\", line 88, in agent_buffer\n",
      "    agent_keys = list(self._agents.keys())\n",
      "KeyboardInterrupt\n",
      "\n"
     ]
    },
    {
     "ename": "KeyboardInterrupt",
     "evalue": "",
     "output_type": "error",
     "traceback": [
      "\u001b[0;31m---------------------------------------------------------------------------\u001b[0m",
      "\u001b[0;31mIndexError\u001b[0m                                Traceback (most recent call last)",
      "\u001b[0;32m/usr/local/lib/python3.7/site-packages/multiprocess/pool.py\u001b[0m in \u001b[0;36mnext\u001b[0;34m(self, timeout)\u001b[0m\n\u001b[1;32m    732\u001b[0m             \u001b[0;32mtry\u001b[0m\u001b[0;34m:\u001b[0m\u001b[0;34m\u001b[0m\u001b[0;34m\u001b[0m\u001b[0m\n\u001b[0;32m--> 733\u001b[0;31m                 \u001b[0mitem\u001b[0m \u001b[0;34m=\u001b[0m \u001b[0mself\u001b[0m\u001b[0;34m.\u001b[0m\u001b[0m_items\u001b[0m\u001b[0;34m.\u001b[0m\u001b[0mpopleft\u001b[0m\u001b[0;34m(\u001b[0m\u001b[0;34m)\u001b[0m\u001b[0;34m\u001b[0m\u001b[0;34m\u001b[0m\u001b[0m\n\u001b[0m\u001b[1;32m    734\u001b[0m             \u001b[0;32mexcept\u001b[0m \u001b[0mIndexError\u001b[0m\u001b[0;34m:\u001b[0m\u001b[0;34m\u001b[0m\u001b[0;34m\u001b[0m\u001b[0m\n",
      "\u001b[0;31mIndexError\u001b[0m: pop from an empty deque",
      "\nDuring handling of the above exception, another exception occurred:\n",
      "\u001b[0;31mKeyboardInterrupt\u001b[0m                         Traceback (most recent call last)",
      "\u001b[0;32m<ipython-input-3-514c394f6431>\u001b[0m in \u001b[0;36m<module>\u001b[0;34m\u001b[0m\n\u001b[1;32m     17\u001b[0m     \u001b[0mmax_steps\u001b[0m\u001b[0;34m=\u001b[0m\u001b[0;36m2000\u001b[0m\u001b[0;34m,\u001b[0m\u001b[0;34m\u001b[0m\u001b[0;34m\u001b[0m\u001b[0m\n\u001b[1;32m     18\u001b[0m )\n\u001b[0;32m---> 19\u001b[0;31m \u001b[0mbatch_run\u001b[0m\u001b[0;34m.\u001b[0m\u001b[0mrun_all\u001b[0m\u001b[0;34m(\u001b[0m\u001b[0;34m)\u001b[0m\u001b[0;34m\u001b[0m\u001b[0;34m\u001b[0m\u001b[0m\n\u001b[0m",
      "\u001b[0;32m/usr/local/lib/python3.7/site-packages/mesa/batchrunner.py\u001b[0m in \u001b[0;36mrun_all\u001b[0;34m(self)\u001b[0m\n\u001b[1;32m    284\u001b[0m             \u001b[0mresults\u001b[0m \u001b[0;34m=\u001b[0m \u001b[0;34m[\u001b[0m\u001b[0;34m]\u001b[0m\u001b[0;34m\u001b[0m\u001b[0;34m\u001b[0m\u001b[0m\n\u001b[1;32m    285\u001b[0m             \u001b[0;32mfor\u001b[0m \u001b[0mtask\u001b[0m \u001b[0;32min\u001b[0m \u001b[0mjob_queue\u001b[0m\u001b[0;34m:\u001b[0m\u001b[0;34m\u001b[0m\u001b[0;34m\u001b[0m\u001b[0m\n\u001b[0;32m--> 286\u001b[0;31m                 \u001b[0;32mfor\u001b[0m \u001b[0mmodel_vars\u001b[0m\u001b[0;34m,\u001b[0m \u001b[0magent_vars\u001b[0m \u001b[0;32min\u001b[0m \u001b[0mlist\u001b[0m\u001b[0;34m(\u001b[0m\u001b[0mtask\u001b[0m\u001b[0;34m)\u001b[0m\u001b[0;34m:\u001b[0m\u001b[0;34m\u001b[0m\u001b[0;34m\u001b[0m\u001b[0m\n\u001b[0m\u001b[1;32m    287\u001b[0m                     \u001b[0mresults\u001b[0m\u001b[0;34m.\u001b[0m\u001b[0mappend\u001b[0m\u001b[0;34m(\u001b[0m\u001b[0;34m(\u001b[0m\u001b[0mmodel_vars\u001b[0m\u001b[0;34m,\u001b[0m \u001b[0magent_vars\u001b[0m\u001b[0;34m)\u001b[0m\u001b[0;34m)\u001b[0m\u001b[0;34m\u001b[0m\u001b[0;34m\u001b[0m\u001b[0m\n\u001b[1;32m    288\u001b[0m                 \u001b[0mpbar\u001b[0m\u001b[0;34m.\u001b[0m\u001b[0mupdate\u001b[0m\u001b[0;34m(\u001b[0m\u001b[0;34m)\u001b[0m\u001b[0;34m\u001b[0m\u001b[0;34m\u001b[0m\u001b[0m\n",
      "\u001b[0;32m/usr/local/lib/python3.7/site-packages/multiprocess/pool.py\u001b[0m in \u001b[0;36mnext\u001b[0;34m(self, timeout)\u001b[0m\n\u001b[1;32m    735\u001b[0m                 \u001b[0;32mif\u001b[0m \u001b[0mself\u001b[0m\u001b[0;34m.\u001b[0m\u001b[0m_index\u001b[0m \u001b[0;34m==\u001b[0m \u001b[0mself\u001b[0m\u001b[0;34m.\u001b[0m\u001b[0m_length\u001b[0m\u001b[0;34m:\u001b[0m\u001b[0;34m\u001b[0m\u001b[0;34m\u001b[0m\u001b[0m\n\u001b[1;32m    736\u001b[0m                     \u001b[0;32mraise\u001b[0m \u001b[0mStopIteration\u001b[0m \u001b[0;32mfrom\u001b[0m \u001b[0;32mNone\u001b[0m\u001b[0;34m\u001b[0m\u001b[0;34m\u001b[0m\u001b[0m\n\u001b[0;32m--> 737\u001b[0;31m                 \u001b[0mself\u001b[0m\u001b[0;34m.\u001b[0m\u001b[0m_cond\u001b[0m\u001b[0;34m.\u001b[0m\u001b[0mwait\u001b[0m\u001b[0;34m(\u001b[0m\u001b[0mtimeout\u001b[0m\u001b[0;34m)\u001b[0m\u001b[0;34m\u001b[0m\u001b[0;34m\u001b[0m\u001b[0m\n\u001b[0m\u001b[1;32m    738\u001b[0m                 \u001b[0;32mtry\u001b[0m\u001b[0;34m:\u001b[0m\u001b[0;34m\u001b[0m\u001b[0;34m\u001b[0m\u001b[0m\n\u001b[1;32m    739\u001b[0m                     \u001b[0mitem\u001b[0m \u001b[0;34m=\u001b[0m \u001b[0mself\u001b[0m\u001b[0;34m.\u001b[0m\u001b[0m_items\u001b[0m\u001b[0;34m.\u001b[0m\u001b[0mpopleft\u001b[0m\u001b[0;34m(\u001b[0m\u001b[0;34m)\u001b[0m\u001b[0;34m\u001b[0m\u001b[0;34m\u001b[0m\u001b[0m\n",
      "\u001b[0;32m/usr/local/Cellar/python/3.7.4/Frameworks/Python.framework/Versions/3.7/lib/python3.7/threading.py\u001b[0m in \u001b[0;36mwait\u001b[0;34m(self, timeout)\u001b[0m\n\u001b[1;32m    294\u001b[0m         \u001b[0;32mtry\u001b[0m\u001b[0;34m:\u001b[0m    \u001b[0;31m# restore state no matter what (e.g., KeyboardInterrupt)\u001b[0m\u001b[0;34m\u001b[0m\u001b[0;34m\u001b[0m\u001b[0m\n\u001b[1;32m    295\u001b[0m             \u001b[0;32mif\u001b[0m \u001b[0mtimeout\u001b[0m \u001b[0;32mis\u001b[0m \u001b[0;32mNone\u001b[0m\u001b[0;34m:\u001b[0m\u001b[0;34m\u001b[0m\u001b[0;34m\u001b[0m\u001b[0m\n\u001b[0;32m--> 296\u001b[0;31m                 \u001b[0mwaiter\u001b[0m\u001b[0;34m.\u001b[0m\u001b[0macquire\u001b[0m\u001b[0;34m(\u001b[0m\u001b[0;34m)\u001b[0m\u001b[0;34m\u001b[0m\u001b[0;34m\u001b[0m\u001b[0m\n\u001b[0m\u001b[1;32m    297\u001b[0m                 \u001b[0mgotit\u001b[0m \u001b[0;34m=\u001b[0m \u001b[0;32mTrue\u001b[0m\u001b[0;34m\u001b[0m\u001b[0;34m\u001b[0m\u001b[0m\n\u001b[1;32m    298\u001b[0m             \u001b[0;32melse\u001b[0m\u001b[0;34m:\u001b[0m\u001b[0;34m\u001b[0m\u001b[0;34m\u001b[0m\u001b[0m\n",
      "\u001b[0;31mKeyboardInterrupt\u001b[0m: "
     ]
    }
   ],
   "source": [
    "import sys\n",
    "\n",
    "#0.01, 0.005, 0.001\n",
    "sys.argv = 'm2 1 1'.split(' ')\n",
    "\n",
    "env_val, muta_sd = float(sys.argv[1]), float(sys.argv[2])\n",
    "\n",
    "fixed_params = {'N':2000, 'width':100, 'height':100}\n",
    "\n",
    "variable_params = {'specific_kargs': [{'env_val': env_val , 'init_ratio':0.5, 'gene_mean':0.5, 'gene_sd':muta_sd, 'muta_sd':muta_sd}]}\n",
    "\n",
    "batch_run = BatchRunnerMP(\n",
    "    M_2, 1,\n",
    "    variable_parameters=variable_params,\n",
    "    fixed_parameters=fixed_params,\n",
    "    iterations=1,\n",
    "    max_steps=2000,\n",
    ")\n",
    "batch_run.run_all()"
   ]
  },
  {
   "cell_type": "code",
   "execution_count": 4,
   "metadata": {},
   "outputs": [
    {
     "data": {
      "text/plain": [
       "0.31622776601683794"
      ]
     },
     "execution_count": 4,
     "metadata": {},
     "output_type": "execute_result"
    }
   ],
   "source": [
    "import math\n",
    "math.sqrt(0.1)"
   ]
  },
  {
   "cell_type": "code",
   "execution_count": null,
   "metadata": {},
   "outputs": [],
   "source": []
  }
 ],
 "metadata": {
  "kernelspec": {
   "display_name": "Python 3",
   "language": "python",
   "name": "python3"
  },
  "language_info": {
   "codemirror_mode": {
    "name": "ipython",
    "version": 3
   },
   "file_extension": ".py",
   "mimetype": "text/x-python",
   "name": "python",
   "nbconvert_exporter": "python",
   "pygments_lexer": "ipython3",
   "version": "3.7.4"
  }
 },
 "nbformat": 4,
 "nbformat_minor": 2
}
